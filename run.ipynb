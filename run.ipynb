{
 "cells": [
  {
   "cell_type": "code",
   "execution_count": 2,
   "metadata": {},
   "outputs": [],
   "source": [
    "import subprocess\n",
    "from langchain_openai import OpenAI\n",
    "from dotenv import load_dotenv\n",
    "import os \n",
    "from typing import List\n",
    "from langchain_core.output_parsers import StrOutputParser\n",
    "from langchain_openai import ChatOpenAI\n",
    "from langchain.output_parsers import PydanticOutputParser\n",
    "from langchain_core.prompts import PromptTemplate\n",
    "from pydantic import BaseModel, Field\n"
   ]
  },
  {
   "cell_type": "code",
   "execution_count": 3,
   "metadata": {},
   "outputs": [],
   "source": [
    "load_dotenv()\n",
    "os.environ['OPENAI_API_KEY'] = os.getenv('OPENAI_API_KEY')"
   ]
  },
  {
   "cell_type": "code",
   "execution_count": 4,
   "metadata": {},
   "outputs": [],
   "source": [
    "class Code(BaseModel):\n",
    "    Filename: str = Field(description=\"what is the Main function name\")\n",
    "    code: str = Field(description=\"answer to resolve the problem statement\")"
   ]
  },
  {
   "cell_type": "code",
   "execution_count": 22,
   "metadata": {},
   "outputs": [],
   "source": [
    "class AIAgent:\n",
    "    def __init__(self):\n",
    "        self.model = ChatOpenAI(model=\"gpt-4\")\n",
    "        self.parser = PydanticOutputParser(pydantic_object=Code)\n",
    "        self.template=PromptTemplate(\n",
    "            template=\"You are a helpful AI coding Assistant,You need to generate code for the following query,\\n {format_instructions}\\n {query}\",\n",
    "            input_variables=[\"query\"],\n",
    "            partial_variables={\"format_instructions\": self.parser.get_format_instructions()},\n",
    "        )\n",
    "        self.chain = self.template|self.model|self.parser\n",
    "    def run_code(self,lang,filename,inputs=None):\n",
    "        \n",
    "        cmdline=subprocess.run([lang,filename],text=True,capture_output=True,input=inputs)\n",
    "        if cmdline.returncode != 0:\n",
    "            return cmdline.stderr\n",
    "        else:\n",
    "            return cmdline.stdout\n",
    "    def gen_code(self,query,):\n",
    "        answer =self.chain.invoke(query)\n",
    "        \n",
    "        with open(answer.Filename, \"w\") as file:\n",
    "            file.write(answer.code)    \n",
    "        return answer.Filename                         \n",
    "    def rectify(self):\n",
    "        None"
   ]
  },
  {
   "cell_type": "code",
   "execution_count": 23,
   "metadata": {},
   "outputs": [],
   "source": [
    "agent=AIAgent()\n",
    "filename=agent.gen_code(\"generate a java code with a function to calculate 3x3 matrix multiplications.\")"
   ]
  },
  {
   "cell_type": "code",
   "execution_count": 24,
   "metadata": {},
   "outputs": [
    {
     "data": {
      "text/plain": [
       "'6 6 6 \\n12 12 12 \\n18 18 18 \\n'"
      ]
     },
     "execution_count": 24,
     "metadata": {},
     "output_type": "execute_result"
    }
   ],
   "source": [
    "agent.run_code(lang=\"java\",filename=filename)"
   ]
  },
  {
   "cell_type": "code",
   "execution_count": null,
   "metadata": {},
   "outputs": [],
   "source": []
  }
 ],
 "metadata": {
  "kernelspec": {
   "display_name": "ai",
   "language": "python",
   "name": "python3"
  },
  "language_info": {
   "codemirror_mode": {
    "name": "ipython",
    "version": 3
   },
   "file_extension": ".py",
   "mimetype": "text/x-python",
   "name": "python",
   "nbconvert_exporter": "python",
   "pygments_lexer": "ipython3",
   "version": "3.12.3"
  }
 },
 "nbformat": 4,
 "nbformat_minor": 2
}
